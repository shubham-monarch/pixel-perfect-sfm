{
 "cells": [
  {
   "cell_type": "markdown",
   "id": "70a5983c",
   "metadata": {},
   "source": [
    "In this notebook, we will build a 3D map of a scene from a small set of images and refine it with the featuremetric optimization. We then localize an image downloaded from the Internet and show the effect of the refinement."
   ]
  },
  {
   "cell_type": "markdown",
   "id": "bf7c6f36",
   "metadata": {},
   "source": [
    "# Setup\n",
    "We start by defining some output paths: where the intermediate files will be stored."
   ]
  },
  {
   "cell_type": "code",
   "execution_count": 24,
   "id": "379aa91d",
   "metadata": {},
   "outputs": [
    {
     "name": "stdout",
     "output_type": "stream",
     "text": [
      "The autoreload extension is already loaded. To reload it, use:\n",
      "  %reload_ext autoreload\n"
     ]
    }
   ],
   "source": [
    "%load_ext autoreload\n",
    "%autoreload 2\n",
    "import tqdm, tqdm.notebook\n",
    "tqdm.tqdm = tqdm.notebook.tqdm  # notebook-friendly progress bars\n",
    "from pathlib import Path\n",
    "import os\n",
    "import time\n",
    "import sys\n",
    "from hloc import extract_features, match_features, reconstruction, pairs_from_exhaustive, visualization\n",
    "from hloc.visualization import plot_images, read_image\n",
    "from hloc.utils.viz_3d import init_figure, plot_points, plot_reconstruction, plot_camera_colmap\n",
    "\n",
    "from pixsfm.util.visualize import init_image, plot_points2D\n",
    "from pixsfm.refine_hloc import PixSfM\n",
    "from pixsfm import ostream_redirect\n",
    "from PIL import Image, ImageDraw\n",
    "import pycolmap\n",
    "import numpy as np\n",
    "#import visualize_model\n",
    "# redirect the C++ outputs to notebook cells\n",
    "cpp_out = ostream_redirect(stderr=True, stdout=True)\n",
    "cpp_out.__enter__()"
   ]
  },
  {
   "cell_type": "code",
   "execution_count": 25,
   "id": "8b577c8a-72ac-48da-aac2-c4c2bd22c9f2",
   "metadata": {},
   "outputs": [
    {
     "name": "stdout",
     "output_type": "stream",
     "text": [
      "1.9.1+cu111\n",
      "['sm_37', 'sm_50', 'sm_60', 'sm_70', 'sm_75', 'sm_80', 'sm_86']\n"
     ]
    }
   ],
   "source": [
    "import torch \n",
    "print(torch.__version__)\n",
    "print(torch.cuda.get_arch_list())"
   ]
  },
  {
   "cell_type": "code",
   "execution_count": 26,
   "id": "ab294072",
   "metadata": {},
   "outputs": [],
   "source": [
    "images = Path('datasets/monarch/')\n",
    "outputs = Path('outputs/monarch-demo/')\n",
    "!rm -rf $outputs\n",
    "sfm_pairs = outputs / 'pairs-sfm.txt'\n",
    "loc_pairs = outputs / 'pairs-loc.txt'\n",
    "features = outputs / 'features.h5'\n",
    "matches = outputs / 'matches.h5'\n",
    "raw_dir = outputs / \"raw\"\n",
    "ref_dir = outputs / \"ref\"\n",
    "''' model location in case of intrinsics locked '''\n",
    "ref_dir_locked = outputs / \"ref_locked\"\n",
    "''' model location in case of intrinsics not locked '''\n",
    "ref_dir_not_locked = outputs / \"ref_dir_not_locked\" "
   ]
  },
  {
   "cell_type": "markdown",
   "id": "f9bef9e3",
   "metadata": {},
   "source": [
    "Here we will use SuperPoint local features with the SuperGlue matcher, but it's easy to switch to other features like SIFT or R2D2."
   ]
  },
  {
   "cell_type": "markdown",
   "id": "5fc286cf",
   "metadata": {},
   "source": [
    "### Analysing Sparse Pointcloud Data"
   ]
  },
  {
   "cell_type": "code",
   "execution_count": 27,
   "id": "ff4768fe",
   "metadata": {},
   "outputs": [
    {
     "name": "stdout",
     "output_type": "stream",
     "text": [
      "sparse_dir: /home/skumar/stereo_colmap_cli_output/sparse\n"
     ]
    }
   ],
   "source": [
    "sparse_dir = Path(\"/home/skumar/stereo_colmap_cli_output/sparse/\")\n",
    "print(f\"sparse_dir: {sparse_dir.as_posix()}\")\n",
    "sparse_images = sparse_dir / \"images.bin\"\n",
    "sparse_points3D = sparse_dir / \"points3D.bin\"\n",
    "sparse_cameras = sparse_dir / \"cameras.bin\""
   ]
  },
  {
   "cell_type": "code",
   "execution_count": 28,
   "id": "a7293679",
   "metadata": {},
   "outputs": [
    {
     "name": "stdout",
     "output_type": "stream",
     "text": [
      "sparse_model.summary(): Reconstruction:\n",
      "\tnum_reg_images = 42\n",
      "\tnum_cameras = 1\n",
      "\tnum_points3D = 4915\n",
      "\tnum_observations = 21377\n",
      "\tmean_track_length = 4.34934\n",
      "\tmean_observations_per_image = 508.976\n",
      "\tmean_reprojection_error = 0.93475\n"
     ]
    }
   ],
   "source": [
    "sparse_model = pycolmap.Reconstruction()\n",
    "sparse_model.read_binary(sparse_dir.as_posix())\n",
    "print(f\"sparse_model.summary(): {sparse_model.summary()}\")"
   ]
  },
  {
   "cell_type": "markdown",
   "id": "0b51fd20",
   "metadata": {},
   "source": [
    "### Baseline check"
   ]
  },
  {
   "cell_type": "code",
   "execution_count": 29,
   "id": "663f2206",
   "metadata": {},
   "outputs": [
    {
     "name": "stdout",
     "output_type": "stream",
     "text": [
      "dict_keys([29, 28, 27, 26, 25, 24, 23, 22, 21, 20, 19, 18, 17, 30, 1, 31, 2, 32, 3, 33, 4, 34, 5, 35, 6, 36, 7, 37, 8, 38, 9, 39, 10, 40, 11, 41, 12, 42, 13, 14, 15, 16])\n"
     ]
    }
   ],
   "source": [
    "sys.path.append(\"/home/skumar/colmap/scripts/python\")\n",
    "from read_write_model import read_images_binary \n",
    "sparse_img_dict = read_images_binary(sparse_images)\n",
    "print(sparse_img_dict.keys())"
   ]
  },
  {
   "cell_type": "code",
   "execution_count": 30,
   "id": "f975186d",
   "metadata": {},
   "outputs": [],
   "source": [
    "def cam_extrinsics(img):\n",
    "    from read_write_model import qvec2rotmat\n",
    "    R = qvec2rotmat(img.qvec)\n",
    "    t = img.tvec.reshape(3,-1)\n",
    "    R_t = np.concatenate((R,t), axis = 1)\n",
    "    R_t = np.vstack([np.array([0,0,0,1]), R_t])\n",
    "    return R_t    #  4 * 4 matrix\n",
    "    "
   ]
  },
  {
   "cell_type": "code",
   "execution_count": 31,
   "id": "d8d23781",
   "metadata": {},
   "outputs": [],
   "source": [
    "'''\n",
    "e_lw => left camera pose in world frame (4 * 4)\n",
    "e_rw => right camera pose in world frame (4 * 4)\n",
    "'''\n",
    "def calculate_relative_pose(e_lw, e_rw): \n",
    "    from scipy.spatial.transform import Rotation\n",
    "    e_rl = e_rw * np.linalg.inv(e_lw) #right camera in the frame of the left camera\n",
    "    R = e_rl[:3,:3] #extracting the rotation matrix\n",
    "    dx = e_rl[0,3]\n",
    "    dy = e_rl[1,3]\n",
    "    dz = e_rl[2,3]\n",
    "    dquat = Rotation.from_matrix(R).as_quat()\n",
    "    #rel_pose =  [dx, dy] + dquat\n",
    "    rel_pose = [dx,dy,dz]\n",
    "    for q in dquat: \n",
    "        rel_pose.append(q)\n",
    "    return rel_pose\n",
    "    #return [dx,dy]\n",
    "    #print(f\"dx: {dx} dy: {dy} dquat: {dquat}\")"
   ]
  },
  {
   "cell_type": "code",
   "execution_count": 34,
   "id": "ba57333f-c5dd-4800-8c5c-41bccec93eca",
   "metadata": {},
   "outputs": [
    {
     "name": "stdout",
     "output_type": "stream",
     "text": [
      "type(sparse_images): <class 'pathlib.PosixPath'>\n"
     ]
    }
   ],
   "source": [
    "print(f\"type(sparse_images): {type(sparse_images)}\")"
   ]
  },
  {
   "cell_type": "code",
   "execution_count": 35,
   "id": "b1cd9eb8",
   "metadata": {},
   "outputs": [],
   "source": [
    "rel_poses = []\n",
    "num_images = len(sparse_img_dict.keys())\n",
    "for idx in range(0, num_images - 1,2): \n",
    "    '''\n",
    "    if idx > 1:\n",
    "        break\n",
    "    '''\n",
    "    left_img = sparse_img_dict[idx + 1]\n",
    "    right_img = sparse_img_dict[idx + 2]\n",
    "    e_lw = cam_extrinsics(left_img)  #left camera pose w.r.t. world\n",
    "    e_rw = cam_extrinsics(right_img) #right camera pose w.r.t world\n",
    "    rel_pose = calculate_relative_pose(e_lw, e_rw)\n",
    "    rel_poses.append(rel_pose)"
   ]
  },
  {
   "cell_type": "code",
   "execution_count": 37,
   "id": "b4f324a4-c9b4-4047-b092-60ebfdacdf6f",
   "metadata": {},
   "outputs": [
    {
     "name": "stdout",
     "output_type": "stream",
     "text": [
      "Collecting pandas\n",
      "  Downloading pandas-2.0.3-cp38-cp38-manylinux_2_17_x86_64.manylinux2014_x86_64.whl (12.4 MB)\n",
      "\u001b[K     |████████████████████████████████| 12.4 MB 2.8 MB/s eta 0:00:01\n",
      "\u001b[?25hCollecting tzdata>=2022.1\n",
      "  Downloading tzdata-2024.1-py2.py3-none-any.whl (345 kB)\n",
      "\u001b[K     |████████████████████████████████| 345 kB 13.7 MB/s eta 0:00:01\n",
      "\u001b[?25hRequirement already satisfied: python-dateutil>=2.8.2 in /home/skumar/e6/lib/python3.8/site-packages (from pandas) (2.8.2)\n",
      "Requirement already satisfied: pytz>=2020.1 in /home/skumar/e6/lib/python3.8/site-packages (from pandas) (2024.1)\n",
      "Requirement already satisfied: numpy>=1.20.3; python_version < \"3.10\" in /home/skumar/e6/lib/python3.8/site-packages (from pandas) (1.24.4)\n",
      "Requirement already satisfied: six>=1.5 in /home/skumar/e6/lib/python3.8/site-packages (from python-dateutil>=2.8.2->pandas) (1.16.0)\n",
      "Installing collected packages: tzdata, pandas\n",
      "Successfully installed pandas-2.0.3 tzdata-2024.1\n"
     ]
    }
   ],
   "source": [
    "!pip install pandas"
   ]
  },
  {
   "cell_type": "code",
   "execution_count": 41,
   "id": "2507114d",
   "metadata": {},
   "outputs": [
    {
     "data": {
      "text/html": [
       "<style type=\"text/css\">\n",
       "</style>\n",
       "<table id=\"T_a3bbf\">\n",
       "  <thead>\n",
       "    <tr>\n",
       "      <th class=\"blank level0\" >&nbsp;</th>\n",
       "      <th id=\"T_a3bbf_level0_col0\" class=\"col_heading level0 col0\" >dx</th>\n",
       "      <th id=\"T_a3bbf_level0_col1\" class=\"col_heading level0 col1\" >dy</th>\n",
       "      <th id=\"T_a3bbf_level0_col2\" class=\"col_heading level0 col2\" >dz</th>\n",
       "      <th id=\"T_a3bbf_level0_col3\" class=\"col_heading level0 col3\" >qx</th>\n",
       "      <th id=\"T_a3bbf_level0_col4\" class=\"col_heading level0 col4\" >qy</th>\n",
       "      <th id=\"T_a3bbf_level0_col5\" class=\"col_heading level0 col5\" >qz</th>\n",
       "      <th id=\"T_a3bbf_level0_col6\" class=\"col_heading level0 col6\" >qw</th>\n",
       "    </tr>\n",
       "  </thead>\n",
       "  <tbody>\n",
       "    <tr>\n",
       "      <th id=\"T_a3bbf_level0_row0\" class=\"row_heading level0 row0\" >0</th>\n",
       "      <td id=\"T_a3bbf_row0_col0\" class=\"data row0 col0\" >0.030344</td>\n",
       "      <td id=\"T_a3bbf_row0_col1\" class=\"data row0 col1\" >0.000144</td>\n",
       "      <td id=\"T_a3bbf_row0_col2\" class=\"data row0 col2\" >-2.558585</td>\n",
       "      <td id=\"T_a3bbf_row0_col3\" class=\"data row0 col3\" >-0.000320</td>\n",
       "      <td id=\"T_a3bbf_row0_col4\" class=\"data row0 col4\" >0.025174</td>\n",
       "      <td id=\"T_a3bbf_row0_col5\" class=\"data row0 col5\" >0.929903</td>\n",
       "      <td id=\"T_a3bbf_row0_col6\" class=\"data row0 col6\" >0.366942</td>\n",
       "    </tr>\n",
       "    <tr>\n",
       "      <th id=\"T_a3bbf_level0_row1\" class=\"row_heading level0 row1\" >1</th>\n",
       "      <td id=\"T_a3bbf_row1_col0\" class=\"data row1 col0\" >0.026785</td>\n",
       "      <td id=\"T_a3bbf_row1_col1\" class=\"data row1 col1\" >0.000165</td>\n",
       "      <td id=\"T_a3bbf_row1_col2\" class=\"data row1 col2\" >-2.360786</td>\n",
       "      <td id=\"T_a3bbf_row1_col3\" class=\"data row1 col3\" >-0.000251</td>\n",
       "      <td id=\"T_a3bbf_row1_col4\" class=\"data row1 col4\" >0.025709</td>\n",
       "      <td id=\"T_a3bbf_row1_col5\" class=\"data row1 col5\" >0.919528</td>\n",
       "      <td id=\"T_a3bbf_row1_col6\" class=\"data row1 col6\" >0.392182</td>\n",
       "    </tr>\n",
       "    <tr>\n",
       "      <th id=\"T_a3bbf_level0_row2\" class=\"row_heading level0 row2\" >2</th>\n",
       "      <td id=\"T_a3bbf_row2_col0\" class=\"data row2 col0\" >0.023489</td>\n",
       "      <td id=\"T_a3bbf_row2_col1\" class=\"data row2 col1\" >0.000236</td>\n",
       "      <td id=\"T_a3bbf_row2_col2\" class=\"data row2 col2\" >-2.141947</td>\n",
       "      <td id=\"T_a3bbf_row2_col3\" class=\"data row2 col3\" >-0.000343</td>\n",
       "      <td id=\"T_a3bbf_row2_col4\" class=\"data row2 col4\" >0.025543</td>\n",
       "      <td id=\"T_a3bbf_row2_col5\" class=\"data row2 col5\" >0.904628</td>\n",
       "      <td id=\"T_a3bbf_row2_col6\" class=\"data row2 col6\" >0.425437</td>\n",
       "    </tr>\n",
       "    <tr>\n",
       "      <th id=\"T_a3bbf_level0_row3\" class=\"row_heading level0 row3\" >3</th>\n",
       "      <td id=\"T_a3bbf_row3_col0\" class=\"data row3 col0\" >0.021343</td>\n",
       "      <td id=\"T_a3bbf_row3_col1\" class=\"data row3 col1\" >0.000450</td>\n",
       "      <td id=\"T_a3bbf_row3_col2\" class=\"data row3 col2\" >-1.913895</td>\n",
       "      <td id=\"T_a3bbf_row3_col3\" class=\"data row3 col3\" >-0.000333</td>\n",
       "      <td id=\"T_a3bbf_row3_col4\" class=\"data row3 col4\" >0.035647</td>\n",
       "      <td id=\"T_a3bbf_row3_col5\" class=\"data row3 col5\" >0.883807</td>\n",
       "      <td id=\"T_a3bbf_row3_col6\" class=\"data row3 col6\" >0.466491</td>\n",
       "    </tr>\n",
       "    <tr>\n",
       "      <th id=\"T_a3bbf_level0_row4\" class=\"row_heading level0 row4\" >4</th>\n",
       "      <td id=\"T_a3bbf_row4_col0\" class=\"data row4 col0\" >0.031900</td>\n",
       "      <td id=\"T_a3bbf_row4_col1\" class=\"data row4 col1\" >0.000050</td>\n",
       "      <td id=\"T_a3bbf_row4_col2\" class=\"data row4 col2\" >-1.659279</td>\n",
       "      <td id=\"T_a3bbf_row4_col3\" class=\"data row4 col3\" >-0.000453</td>\n",
       "      <td id=\"T_a3bbf_row4_col4\" class=\"data row4 col4\" >0.025350</td>\n",
       "      <td id=\"T_a3bbf_row4_col5\" class=\"data row4 col5\" >0.855529</td>\n",
       "      <td id=\"T_a3bbf_row4_col6\" class=\"data row4 col6\" >0.517133</td>\n",
       "    </tr>\n",
       "    <tr>\n",
       "      <th id=\"T_a3bbf_level0_row5\" class=\"row_heading level0 row5\" >5</th>\n",
       "      <td id=\"T_a3bbf_row5_col0\" class=\"data row5 col0\" >0.045837</td>\n",
       "      <td id=\"T_a3bbf_row5_col1\" class=\"data row5 col1\" >-0.000183</td>\n",
       "      <td id=\"T_a3bbf_row5_col2\" class=\"data row5 col2\" >-1.420006</td>\n",
       "      <td id=\"T_a3bbf_row5_col3\" class=\"data row5 col3\" >-0.000358</td>\n",
       "      <td id=\"T_a3bbf_row5_col4\" class=\"data row5 col4\" >0.002115</td>\n",
       "      <td id=\"T_a3bbf_row5_col5\" class=\"data row5 col5\" >0.814802</td>\n",
       "      <td id=\"T_a3bbf_row5_col6\" class=\"data row5 col6\" >0.579736</td>\n",
       "    </tr>\n",
       "    <tr>\n",
       "      <th id=\"T_a3bbf_level0_row6\" class=\"row_heading level0 row6\" >6</th>\n",
       "      <td id=\"T_a3bbf_row6_col0\" class=\"data row6 col0\" >0.051569</td>\n",
       "      <td id=\"T_a3bbf_row6_col1\" class=\"data row6 col1\" >-0.000169</td>\n",
       "      <td id=\"T_a3bbf_row6_col2\" class=\"data row6 col2\" >-1.166423</td>\n",
       "      <td id=\"T_a3bbf_row6_col3\" class=\"data row6 col3\" >-0.000530</td>\n",
       "      <td id=\"T_a3bbf_row6_col4\" class=\"data row6 col4\" >-0.005964</td>\n",
       "      <td id=\"T_a3bbf_row6_col5\" class=\"data row6 col5\" >0.757526</td>\n",
       "      <td id=\"T_a3bbf_row6_col6\" class=\"data row6 col6\" >0.652777</td>\n",
       "    </tr>\n",
       "    <tr>\n",
       "      <th id=\"T_a3bbf_level0_row7\" class=\"row_heading level0 row7\" >7</th>\n",
       "      <td id=\"T_a3bbf_row7_col0\" class=\"data row7 col0\" >0.048789</td>\n",
       "      <td id=\"T_a3bbf_row7_col1\" class=\"data row7 col1\" >-0.000256</td>\n",
       "      <td id=\"T_a3bbf_row7_col2\" class=\"data row7 col2\" >-0.915282</td>\n",
       "      <td id=\"T_a3bbf_row7_col3\" class=\"data row7 col3\" >-0.000437</td>\n",
       "      <td id=\"T_a3bbf_row7_col4\" class=\"data row7 col4\" >-0.016428</td>\n",
       "      <td id=\"T_a3bbf_row7_col5\" class=\"data row7 col5\" >0.672911</td>\n",
       "      <td id=\"T_a3bbf_row7_col6\" class=\"data row7 col6\" >0.739541</td>\n",
       "    </tr>\n",
       "    <tr>\n",
       "      <th id=\"T_a3bbf_level0_row8\" class=\"row_heading level0 row8\" >8</th>\n",
       "      <td id=\"T_a3bbf_row8_col0\" class=\"data row8 col0\" >0.042881</td>\n",
       "      <td id=\"T_a3bbf_row8_col1\" class=\"data row8 col1\" >-0.000348</td>\n",
       "      <td id=\"T_a3bbf_row8_col2\" class=\"data row8 col2\" >-0.647360</td>\n",
       "      <td id=\"T_a3bbf_row8_col3\" class=\"data row8 col3\" >0.000168</td>\n",
       "      <td id=\"T_a3bbf_row8_col4\" class=\"data row8 col4\" >-0.008420</td>\n",
       "      <td id=\"T_a3bbf_row8_col5\" class=\"data row8 col5\" >0.540121</td>\n",
       "      <td id=\"T_a3bbf_row8_col6\" class=\"data row8 col6\" >0.841545</td>\n",
       "    </tr>\n",
       "    <tr>\n",
       "      <th id=\"T_a3bbf_level0_row9\" class=\"row_heading level0 row9\" >9</th>\n",
       "      <td id=\"T_a3bbf_row9_col0\" class=\"data row9 col0\" >0.022884</td>\n",
       "      <td id=\"T_a3bbf_row9_col1\" class=\"data row9 col1\" >-0.000105</td>\n",
       "      <td id=\"T_a3bbf_row9_col2\" class=\"data row9 col2\" >-0.377612</td>\n",
       "      <td id=\"T_a3bbf_row9_col3\" class=\"data row9 col3\" >-0.000447</td>\n",
       "      <td id=\"T_a3bbf_row9_col4\" class=\"data row9 col4\" >-0.003004</td>\n",
       "      <td id=\"T_a3bbf_row9_col5\" class=\"data row9 col5\" >0.353077</td>\n",
       "      <td id=\"T_a3bbf_row9_col6\" class=\"data row9 col6\" >0.935589</td>\n",
       "    </tr>\n",
       "    <tr>\n",
       "      <th id=\"T_a3bbf_level0_row10\" class=\"row_heading level0 row10\" >10</th>\n",
       "      <td id=\"T_a3bbf_row10_col0\" class=\"data row10 col0\" >0.006632</td>\n",
       "      <td id=\"T_a3bbf_row10_col1\" class=\"data row10 col1\" >-0.000061</td>\n",
       "      <td id=\"T_a3bbf_row10_col2\" class=\"data row10 col2\" >-0.105073</td>\n",
       "      <td id=\"T_a3bbf_row10_col3\" class=\"data row10 col3\" >-0.000317</td>\n",
       "      <td id=\"T_a3bbf_row10_col4\" class=\"data row10 col4\" >-0.000180</td>\n",
       "      <td id=\"T_a3bbf_row10_col5\" class=\"data row10 col5\" >0.104854</td>\n",
       "      <td id=\"T_a3bbf_row10_col6\" class=\"data row10 col6\" >0.994488</td>\n",
       "    </tr>\n",
       "    <tr>\n",
       "      <th id=\"T_a3bbf_level0_row11\" class=\"row_heading level0 row11\" >11</th>\n",
       "      <td id=\"T_a3bbf_row11_col0\" class=\"data row11 col0\" >0.003155</td>\n",
       "      <td id=\"T_a3bbf_row11_col1\" class=\"data row11 col1\" >-0.000097</td>\n",
       "      <td id=\"T_a3bbf_row11_col2\" class=\"data row11 col2\" >0.176259</td>\n",
       "      <td id=\"T_a3bbf_row11_col3\" class=\"data row11 col3\" >-0.000206</td>\n",
       "      <td id=\"T_a3bbf_row11_col4\" class=\"data row11 col4\" >-0.000454</td>\n",
       "      <td id=\"T_a3bbf_row11_col5\" class=\"data row11 col5\" >-0.171476</td>\n",
       "      <td id=\"T_a3bbf_row11_col6\" class=\"data row11 col6\" >0.985188</td>\n",
       "    </tr>\n",
       "    <tr>\n",
       "      <th id=\"T_a3bbf_level0_row12\" class=\"row_heading level0 row12\" >12</th>\n",
       "      <td id=\"T_a3bbf_row12_col0\" class=\"data row12 col0\" >0.016494</td>\n",
       "      <td id=\"T_a3bbf_row12_col1\" class=\"data row12 col1\" >0.000001</td>\n",
       "      <td id=\"T_a3bbf_row12_col2\" class=\"data row12 col2\" >0.449221</td>\n",
       "      <td id=\"T_a3bbf_row12_col3\" class=\"data row12 col3\" >-0.408740</td>\n",
       "      <td id=\"T_a3bbf_row12_col4\" class=\"data row12 col4\" >0.912149</td>\n",
       "      <td id=\"T_a3bbf_row12_col5\" class=\"data row12 col5\" >-0.029676</td>\n",
       "      <td id=\"T_a3bbf_row12_col6\" class=\"data row12 col6\" >0.005905</td>\n",
       "    </tr>\n",
       "    <tr>\n",
       "      <th id=\"T_a3bbf_level0_row13\" class=\"row_heading level0 row13\" >13</th>\n",
       "      <td id=\"T_a3bbf_row13_col0\" class=\"data row13 col0\" >0.022686</td>\n",
       "      <td id=\"T_a3bbf_row13_col1\" class=\"data row13 col1\" >-0.000023</td>\n",
       "      <td id=\"T_a3bbf_row13_col2\" class=\"data row13 col2\" >0.725922</td>\n",
       "      <td id=\"T_a3bbf_row13_col3\" class=\"data row13 col3\" >-0.000319</td>\n",
       "      <td id=\"T_a3bbf_row13_col4\" class=\"data row13 col4\" >0.022277</td>\n",
       "      <td id=\"T_a3bbf_row13_col5\" class=\"data row13 col5\" >-0.585755</td>\n",
       "      <td id=\"T_a3bbf_row13_col6\" class=\"data row13 col6\" >0.810182</td>\n",
       "    </tr>\n",
       "    <tr>\n",
       "      <th id=\"T_a3bbf_level0_row14\" class=\"row_heading level0 row14\" >14</th>\n",
       "      <td id=\"T_a3bbf_row14_col0\" class=\"data row14 col0\" >0.003625</td>\n",
       "      <td id=\"T_a3bbf_row14_col1\" class=\"data row14 col1\" >-0.000121</td>\n",
       "      <td id=\"T_a3bbf_row14_col2\" class=\"data row14 col2\" >1.031719</td>\n",
       "      <td id=\"T_a3bbf_row14_col3\" class=\"data row14 col3\" >-0.000516</td>\n",
       "      <td id=\"T_a3bbf_row14_col4\" class=\"data row14 col4\" >0.020995</td>\n",
       "      <td id=\"T_a3bbf_row14_col5\" class=\"data row14 col5\" >-0.716049</td>\n",
       "      <td id=\"T_a3bbf_row14_col6\" class=\"data row14 col6\" >0.697734</td>\n",
       "    </tr>\n",
       "    <tr>\n",
       "      <th id=\"T_a3bbf_level0_row15\" class=\"row_heading level0 row15\" >15</th>\n",
       "      <td id=\"T_a3bbf_row15_col0\" class=\"data row15 col0\" >-0.014847</td>\n",
       "      <td id=\"T_a3bbf_row15_col1\" class=\"data row15 col1\" >-0.000062</td>\n",
       "      <td id=\"T_a3bbf_row15_col2\" class=\"data row15 col2\" >1.300385</td>\n",
       "      <td id=\"T_a3bbf_row15_col3\" class=\"data row15 col3\" >-0.000119</td>\n",
       "      <td id=\"T_a3bbf_row15_col4\" class=\"data row15 col4\" >-0.004649</td>\n",
       "      <td id=\"T_a3bbf_row15_col5\" class=\"data row15 col5\" >-0.792156</td>\n",
       "      <td id=\"T_a3bbf_row15_col6\" class=\"data row15 col6\" >0.610301</td>\n",
       "    </tr>\n",
       "    <tr>\n",
       "      <th id=\"T_a3bbf_level0_row16\" class=\"row_heading level0 row16\" >16</th>\n",
       "      <td id=\"T_a3bbf_row16_col0\" class=\"data row16 col0\" >0.000478</td>\n",
       "      <td id=\"T_a3bbf_row16_col1\" class=\"data row16 col1\" >-0.000046</td>\n",
       "      <td id=\"T_a3bbf_row16_col2\" class=\"data row16 col2\" >1.572430</td>\n",
       "      <td id=\"T_a3bbf_row16_col3\" class=\"data row16 col3\" >-0.000286</td>\n",
       "      <td id=\"T_a3bbf_row16_col4\" class=\"data row16 col4\" >0.003256</td>\n",
       "      <td id=\"T_a3bbf_row16_col5\" class=\"data row16 col5\" >-0.843328</td>\n",
       "      <td id=\"T_a3bbf_row16_col6\" class=\"data row16 col6\" >0.537389</td>\n",
       "    </tr>\n",
       "    <tr>\n",
       "      <th id=\"T_a3bbf_level0_row17\" class=\"row_heading level0 row17\" >17</th>\n",
       "      <td id=\"T_a3bbf_row17_col0\" class=\"data row17 col0\" >0.017120</td>\n",
       "      <td id=\"T_a3bbf_row17_col1\" class=\"data row17 col1\" >-0.000035</td>\n",
       "      <td id=\"T_a3bbf_row17_col2\" class=\"data row17 col2\" >1.853101</td>\n",
       "      <td id=\"T_a3bbf_row17_col3\" class=\"data row17 col3\" >-0.000267</td>\n",
       "      <td id=\"T_a3bbf_row17_col4\" class=\"data row17 col4\" >0.021301</td>\n",
       "      <td id=\"T_a3bbf_row17_col5\" class=\"data row17 col5\" >-0.878736</td>\n",
       "      <td id=\"T_a3bbf_row17_col6\" class=\"data row17 col6\" >0.476833</td>\n",
       "    </tr>\n",
       "    <tr>\n",
       "      <th id=\"T_a3bbf_level0_row18\" class=\"row_heading level0 row18\" >18</th>\n",
       "      <td id=\"T_a3bbf_row18_col0\" class=\"data row18 col0\" >0.032206</td>\n",
       "      <td id=\"T_a3bbf_row18_col1\" class=\"data row18 col1\" >0.000086</td>\n",
       "      <td id=\"T_a3bbf_row18_col2\" class=\"data row18 col2\" >2.143278</td>\n",
       "      <td id=\"T_a3bbf_row18_col3\" class=\"data row18 col3\" >-0.000132</td>\n",
       "      <td id=\"T_a3bbf_row18_col4\" class=\"data row18 col4\" >0.017995</td>\n",
       "      <td id=\"T_a3bbf_row18_col5\" class=\"data row18 col5\" >-0.905298</td>\n",
       "      <td id=\"T_a3bbf_row18_col6\" class=\"data row18 col6\" >0.424395</td>\n",
       "    </tr>\n",
       "    <tr>\n",
       "      <th id=\"T_a3bbf_level0_row19\" class=\"row_heading level0 row19\" >19</th>\n",
       "      <td id=\"T_a3bbf_row19_col0\" class=\"data row19 col0\" >0.035296</td>\n",
       "      <td id=\"T_a3bbf_row19_col1\" class=\"data row19 col1\" >0.000339</td>\n",
       "      <td id=\"T_a3bbf_row19_col2\" class=\"data row19 col2\" >2.432058</td>\n",
       "      <td id=\"T_a3bbf_row19_col3\" class=\"data row19 col3\" >-0.000125</td>\n",
       "      <td id=\"T_a3bbf_row19_col4\" class=\"data row19 col4\" >0.035538</td>\n",
       "      <td id=\"T_a3bbf_row19_col5\" class=\"data row19 col5\" >-0.922793</td>\n",
       "      <td id=\"T_a3bbf_row19_col6\" class=\"data row19 col6\" >0.383653</td>\n",
       "    </tr>\n",
       "    <tr>\n",
       "      <th id=\"T_a3bbf_level0_row20\" class=\"row_heading level0 row20\" >20</th>\n",
       "      <td id=\"T_a3bbf_row20_col0\" class=\"data row20 col0\" >0.033900</td>\n",
       "      <td id=\"T_a3bbf_row20_col1\" class=\"data row20 col1\" >0.000159</td>\n",
       "      <td id=\"T_a3bbf_row20_col2\" class=\"data row20 col2\" >2.702486</td>\n",
       "      <td id=\"T_a3bbf_row20_col3\" class=\"data row20 col3\" >-0.000035</td>\n",
       "      <td id=\"T_a3bbf_row20_col4\" class=\"data row20 col4\" >0.043906</td>\n",
       "      <td id=\"T_a3bbf_row20_col5\" class=\"data row20 col5\" >-0.936288</td>\n",
       "      <td id=\"T_a3bbf_row20_col6\" class=\"data row20 col6\" >0.348479</td>\n",
       "    </tr>\n",
       "  </tbody>\n",
       "</table>\n"
      ],
      "text/plain": [
       "<pandas.io.formats.style.Styler at 0x7f17e14a8460>"
      ]
     },
     "execution_count": 41,
     "metadata": {},
     "output_type": "execute_result"
    }
   ],
   "source": [
    "import pandas as pd\n",
    "pd.set_option('display.max_colwidth', None)\n",
    "pd.set_option('display.notebook_repr_html', True)\n",
    "df = pd.DataFrame(rel_poses, columns=['dx', 'dy', 'dz', 'qx' , 'qy', 'qz' , 'qw'])\n",
    "df.style"
   ]
  },
  {
   "cell_type": "markdown",
   "id": "4657bc0d-a349-4d96-b177-a767ec97cbab",
   "metadata": {},
   "source": [
    "### Testing Arena "
   ]
  },
  {
   "cell_type": "code",
   "execution_count": 9,
   "id": "b824f1b2-a38f-4431-af02-a055f73bad07",
   "metadata": {},
   "outputs": [],
   "source": [
    "import sys\n",
    "from pathlib import Path\n",
    "sys.path.append(\"/home/skumar/colmap/scripts/python\")\n",
    "from read_write_model import read_cameras_binary\n",
    "project_path = Path(\"/home/skumar/stereo_colmap_cli_output\")"
   ]
  },
  {
   "cell_type": "code",
   "execution_count": 10,
   "id": "4f2e9b90-2416-42e7-8fa8-db2f0f260380",
   "metadata": {},
   "outputs": [],
   "source": [
    "bin_cameras_path = project_path / \"cameras.bin\" \n",
    "bin_cameras = read_cameras_binary(bin_cameras_path)"
   ]
  },
  {
   "cell_type": "code",
   "execution_count": 11,
   "id": "f3a09176-8e1d-473e-854b-274b8f03c30f",
   "metadata": {},
   "outputs": [
    {
     "name": "stdout",
     "output_type": "stream",
     "text": [
      "bin_cameras: {1: Camera(id=1, model='OPENCV', width=1920, height=1080, params=array([1093.2768, 1093.2768,  964.989 ,  569.276 ,    0.    ,    0.    ,\n",
      "          0.    ,    0.    ]))}\n"
     ]
    }
   ],
   "source": [
    "print(f\"bin_cameras: {bin_cameras}\")"
   ]
  },
  {
   "cell_type": "code",
   "execution_count": null,
   "id": "b71ef829-6cb0-42e0-902c-de5e4045abcd",
   "metadata": {},
   "outputs": [],
   "source": []
  }
 ],
 "metadata": {
  "kernelspec": {
   "display_name": "Python 3 (ipykernel)",
   "language": "python",
   "name": "python3"
  },
  "language_info": {
   "codemirror_mode": {
    "name": "ipython",
    "version": 3
   },
   "file_extension": ".py",
   "mimetype": "text/x-python",
   "name": "python",
   "nbconvert_exporter": "python",
   "pygments_lexer": "ipython3",
   "version": "3.8.10"
  }
 },
 "nbformat": 4,
 "nbformat_minor": 5
}
