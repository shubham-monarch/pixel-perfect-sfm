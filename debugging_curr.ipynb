{
 "cells": [
  {
   "cell_type": "markdown",
   "id": "70a5983c",
   "metadata": {},
   "source": [
    "In this notebook, we will build a 3D map of a scene from a small set of images and refine it with the featuremetric optimization. We then localize an image downloaded from the Internet and show the effect of the refinement."
   ]
  },
  {
   "cell_type": "code",
   "execution_count": null,
   "id": "379aa91d",
   "metadata": {},
   "outputs": [],
   "source": [
    "%load_ext autoreload\n",
    "%autoreload 2\n",
    "import tqdm, tqdm.notebook\n",
    "tqdm.tqdm = tqdm.notebook.tqdm  # notebook-friendly progress bars\n",
    "from pathlib import Path\n",
    "import os\n",
    "import time\n",
    "\n",
    "from hloc import extract_features, match_features, reconstruction, pairs_from_exhaustive, visualization\n",
    "from hloc.visualization import plot_images, read_image\n",
    "from hloc.utils.viz_3d import init_figure, plot_points, plot_reconstruction, plot_camera_colmap, plot_reconstruction_minus_camera\n",
    "\n",
    "\n",
    "from pixsfm.util.visualize import init_image, plot_points2D\n",
    "from pixsfm.refine_hloc import PixSfM\n",
    "from pixsfm import ostream_redirect\n",
    "from PIL import Image, ImageDraw\n",
    "# redirect the C++ outputs to notebook cells\n",
    "cpp_out = ostream_redirect(stderr=True, stdout=True)\n",
    "cpp_out.__enter__()"
   ]
  },
  {
   "cell_type": "markdown",
   "id": "bf7c6f36",
   "metadata": {},
   "source": [
    "# Setup\n",
    "We start by defining some output paths: where the intermediate files will be stored."
   ]
  },
  {
   "cell_type": "code",
   "execution_count": null,
   "id": "ab294072",
   "metadata": {},
   "outputs": [],
   "source": [
    "images = Path('datasets/monarch/')\n",
    "outputs = Path('outputs/monarch-demo/')\n",
    "!rm -rf $outputs\n",
    "sfm_pairs = outputs / 'pairs-sfm.txt'\n",
    "loc_pairs = outputs / 'pairs-loc.txt'\n",
    "features = outputs / 'features.h5'\n",
    "matches = outputs / 'matches.h5'\n",
    "raw_dir = outputs / \"raw\"\n",
    "ref_dir = outputs / \"ref\""
   ]
  },
  {
   "cell_type": "markdown",
   "id": "f9bef9e3",
   "metadata": {},
   "source": [
    "Here we will use SuperPoint local features with the SuperGlue matcher, but it's easy to switch to other features like SIFT or R2D2."
   ]
  },
  {
   "cell_type": "code",
   "execution_count": null,
   "id": "d4182c42",
   "metadata": {},
   "outputs": [],
   "source": [
    "feature_conf = extract_features.confs['superpoint_aachen']\n",
    "matcher_conf = match_features.confs['superglue']"
   ]
  },
  {
   "cell_type": "markdown",
   "id": "29335da0",
   "metadata": {},
   "source": [
    "# 3D mapping and refinement\n",
    "First we list the images used for mapping. These are all day-time shots of Sacre Coeur."
   ]
  },
  {
   "cell_type": "code",
   "execution_count": null,
   "id": "31de7d45-8e7a-48b3-a848-b76bbad407da",
   "metadata": {},
   "outputs": [],
   "source": [
    "'''masking of the tractor hood from the images '''\n",
    "''' output => datasets/monarch/{target_folder}/image_name.jpg '''\n",
    "def draw_box_around_tractor_hood(image_path, target_folder): \n",
    "    image = Image.open(image_path)\n",
    "    w, h = image.size\n",
    "    box_x1, box_y1 = 460, 770  # Top-left corner\n",
    "    box_x2, box_y2 = 1630, 1080  # Bottom-right corner\n",
    "    outline_color = (0, 0, 0)  # Red in RGB format\n",
    "    fill_color = (0, 0, 0)  # Black in RGB format\n",
    "    draw = ImageDraw.Draw(image)\n",
    "    draw.rectangle([box_x1, box_y1, box_x2, box_y2], outline=outline_color, fill=fill_color)\n",
    "    directory_path,filename = os.path.split(image_path)\n",
    "    parent_directory_path = os.path.dirname(directory_path)\n",
    "    target_directory = os.path.join(parent_directory_path, target_folder)\n",
    "    os.makedirs(target_directory, exist_ok = True)\n",
    "    target_image_path = os.path.join(target_directory,filename)\n",
    "    image.save(target_image_path)\n",
    "    return target_image_path "
   ]
  },
  {
   "cell_type": "code",
   "execution_count": null,
   "id": "f122e24f",
   "metadata": {},
   "outputs": [],
   "source": [
    "references = [str(p) for i, p in enumerate((images / 'mapping/').iterdir())]\n",
    "print(f\"references: {references[0:5]}\")"
   ]
  },
  {
   "cell_type": "code",
   "execution_count": null,
   "id": "f7a2b029-23b7-44a0-9f7c-20dd5d7e5f3c",
   "metadata": {},
   "outputs": [],
   "source": [
    "''' masking the tractor hood in all the images'''\n",
    "''' returns list of path to the masked images '''\n",
    "start_time = time.time()\n",
    "target_folder = \"masked_images\"\n",
    "masked_references = [draw_box_around_tractor_hood(p, target_folder) for p in references]\n",
    "end_time = time.time()\n",
    "elapsed_time = end_time - start_time\n",
    "\n",
    "target_path = os.path.join(images, target_folder)\n",
    "\n",
    "''' sorting masked_references sequentially '''\n",
    "''' smf => sorted masked references '''\n",
    "smf = sorted(masked_references, key = lambda x: int(((x.split(\"/\")[-1]).split(\".\")[0]).split(\"_\")[0]))"
   ]
  },
  {
   "cell_type": "code",
   "execution_count": null,
   "id": "2cadb67c-7a28-486b-a163-c071c18ef115",
   "metadata": {},
   "outputs": [],
   "source": [
    "''' trimming the dataset '''\n",
    "''' t_smf => trimmed sorted mask references '''\n",
    "t_smf = smf[100:200]\n",
    "''' relative to images '''\n",
    "''' rsmf => relative sorted mask references '''\n",
    "r_smf = [str(Path(p).relative_to(images)) for p in t_smf]\n",
    "'''updating references '''\n",
    "references = r_smf\n",
    "print(references[0:10])"
   ]
  },
  {
   "cell_type": "markdown",
   "id": "d8e86f9d",
   "metadata": {},
   "source": [
    "Then we extract features and match them across image pairs. Since we deal with few images, we simply match all pairs exhaustively."
   ]
  },
  {
   "cell_type": "code",
   "execution_count": null,
   "id": "a21540f3",
   "metadata": {},
   "outputs": [],
   "source": [
    "features_path_ = extract_features.main(feature_conf, images, image_list=references, feature_path=features)"
   ]
  },
  {
   "cell_type": "code",
   "execution_count": null,
   "id": "d935b0d8-26fb-4b2e-9e84-38ad28c42a32",
   "metadata": {},
   "outputs": [],
   "source": [
    "print((features_path_))"
   ]
  },
  {
   "cell_type": "code",
   "execution_count": null,
   "id": "cc9158e3-dad2-4197-bc21-e84e273b52c1",
   "metadata": {},
   "outputs": [],
   "source": [
    "from hloc.utils.viz import plot_keypoints, save_plot\n",
    "from hloc.utils.io import get_keypoints\n",
    "import matplotlib.pyplot as plt\n",
    "import numpy as np\n",
    "import os\n",
    "\n",
    "ref_trim_ = references[:4]\n",
    "plot_images([read_image(images / r) for r in ref_trim_], dpi=50)\n",
    "\n",
    "kps_list_ = [] \n",
    "for r in ref_trim_:\n",
    "    kps = get_keypoints(features_path_, r)\n",
    "    print(type(kps))\n",
    "    kps_list_.append(kps)\n",
    "    \n",
    "plot_keypoints(kps_list_, colors = \"red\",  ps = 10)\n",
    "\n",
    "current_path_ = os.getcwd()\n",
    "\n",
    "print(\"current_path: \", current_path_)\n",
    "\n",
    "print(type(current_path_))\n",
    "\n",
    "final_path = current_path_ + \"/kps.png\"\n",
    "\n",
    "\n",
    "save_plot(final_path)\n"
   ]
  },
  {
   "cell_type": "code",
   "execution_count": null,
   "id": "b08ee806-24b4-43ca-a2fc-814f1677a297",
   "metadata": {},
   "outputs": [],
   "source": [
    "pairs_from_exhaustive.sequential_main(sfm_pairs, image_list=references)"
   ]
  },
  {
   "cell_type": "code",
   "execution_count": null,
   "id": "f0d90198-7012-4d2a-9158-841c889e3b82",
   "metadata": {},
   "outputs": [],
   "source": [
    "#print(\"features: \", features)\n",
    "#print(\"matches: \", matches)\n",
    "match_features.main(matcher_conf, sfm_pairs, features=features, matches=matches);"
   ]
  },
  {
   "cell_type": "markdown",
   "id": "e232823a",
   "metadata": {},
   "source": [
    "Now we run the reconstruction with and without the featuremetric refinement. For this dataset, when computing the dense features, we resize the images such that they are not larger than 1024 pixels."
   ]
  },
  {
   "cell_type": "code",
   "execution_count": null,
   "id": "0c00bcc6",
   "metadata": {},
   "outputs": [],
   "source": [
    "# run pixsfm\n",
    "sfm = PixSfM({\"dense_features\": {\"max_edge\": 1024}})\n",
    "refined, sfm_outputs = sfm.reconstruction(ref_dir, images, sfm_pairs, features, matches, image_list=references)\n",
    "\n",
    "# here ref is pycolmap.Reconstruction object\n",
    "\n",
    "# run the raw geometric SfM for comparison\n",
    "raw_sfm = PixSfM({\"KA\":{\"apply\": False}, \"BA\": {\"apply\": False}})\n",
    "raw, _ = raw_sfm.reconstruction(raw_dir, images, sfm_pairs, features, matches, image_list=references)"
   ]
  },
  {
   "cell_type": "markdown",
   "id": "9a0cf70e",
   "metadata": {},
   "source": [
    "`refined` and `raw` are `pycolmap.Reconstruction` objects, of which we can print the statistics to compare them:"
   ]
  },
  {
   "cell_type": "code",
   "execution_count": null,
   "id": "fbaf9840",
   "metadata": {},
   "outputs": [],
   "source": [
    "print(\"Raw\", raw.summary())\n",
    "print(\"Refined\", refined.summary())"
   ]
  },
  {
   "cell_type": "code",
   "execution_count": null,
   "id": "4bd2007c-c73a-4a67-af4c-9f9b8c35d6ff",
   "metadata": {},
   "outputs": [],
   "source": [
    "print(dir(raw))"
   ]
  },
  {
   "cell_type": "code",
   "execution_count": null,
   "id": "d29110fb-9024-4784-a5a8-24ef7e6dbef5",
   "metadata": {},
   "outputs": [],
   "source": [
    "raw.num_points3D"
   ]
  },
  {
   "cell_type": "code",
   "execution_count": null,
   "id": "0bab17ef-a991-47f0-97b9-f08e8d614f27",
   "metadata": {},
   "outputs": [],
   "source": [
    "refined.export_PLY(\"refined_pointcloud.ply\")"
   ]
  },
  {
   "cell_type": "markdown",
   "id": "181bd7d3",
   "metadata": {},
   "source": [
    "# Visualization\n",
    "To visualize both models together, we rigidly transform the raw reconstruction so that the 3D points common to the two 3D models are aligned."
   ]
  },
  {
   "cell_type": "code",
   "execution_count": null,
   "id": "d2ad001e",
   "metadata": {},
   "outputs": [],
   "source": [
    "raw.align_points(refined, max_error=0.05, min_inlier_ratio=0.6, min_overlap=3)"
   ]
  },
  {
   "cell_type": "markdown",
   "id": "f09ef122",
   "metadata": {},
   "source": [
    "We now plot the reconstructions side-by-side. We can click on the legend entries to toggle them."
   ]
  },
  {
   "cell_type": "code",
   "execution_count": null,
   "id": "56439fe8",
   "metadata": {},
   "outputs": [],
   "source": [
    "fig3d = init_figure()\n",
    "args = dict(max_reproj_error=3.0, min_track_length=2, cs=1)\n",
    "plot_reconstruction(fig3d, raw, color='rgba(255, 0, 0, 0.5)', name=\"raw\", **args)\n",
    "plot_reconstruction_minus_camera(fig3d, refined, color='rgba(0, 255, 0, 0.5)', name=\"refined\", **args)\n",
    "fig3d.show()"
   ]
  },
  {
   "cell_type": "markdown",
   "id": "851f6aa9",
   "metadata": {},
   "source": [
    "We can also visualize the detected keypoints (blue) and the final reprojections (red) for a given mapping image. You can drag to zoom in. As you can see, the points were refined by a few pixels at most but the 3D points and camera poses can be refined up to a few meters."
   ]
  },
  {
   "cell_type": "code",
   "execution_count": null,
   "id": "acc46954",
   "metadata": {},
   "outputs": [],
   "source": [
    "img = refined.images[refined.reg_image_ids()[0]]\n",
    "cam = refined.cameras[img.camera_id]\n",
    "fig = init_image(images / img.name)    \n",
    "plot_points2D(fig, [p2D.xy for p2D in img.points2D if p2D.has_point3D()])\n",
    "plot_points2D(fig, cam.world_to_image(img.project(refined)), color='rgba(255, 0, 0, 0.5)')\n",
    "fig.show()"
   ]
  },
  {
   "cell_type": "markdown",
   "id": "cd57fbbf",
   "metadata": {
    "jp-MarkdownHeadingCollapsed": true
   },
   "source": [
    "# Localization\n",
    "Now that we have a 3D map of the scene, we can localize any image. To demonstrate this, we download [a night-time image from Wikimedia](https://commons.wikimedia.org/wiki/File:Paris_-_Basilique_du_Sacr%C3%A9_Coeur,_Montmartre_-_panoramio.jpg)."
   ]
  },
  {
   "cell_type": "code",
   "execution_count": null,
   "id": "fad9b558",
   "metadata": {},
   "outputs": [],
   "source": [
    "url = \"https://upload.wikimedia.org/wikipedia/commons/5/53/Paris_-_Basilique_du_Sacr%C3%A9_Coeur%2C_Montmartre_-_panoramio.jpg\"\n",
    "# try other queries by uncommenting their url\n",
    "# url = \"https://upload.wikimedia.org/wikipedia/commons/8/8e/Sacr%C3%A9_C%C5%93ur_at_night%21_%285865355326%29.jpg\"\n",
    "# url = \"https://upload.wikimedia.org/wikipedia/commons/c/c0/La_basilique_du_Sacr%C3%A9-Coeur_au_cr%C3%A9puscule_%28Paris%29_%284147593805%29.jpg\"\n",
    "query = 'query/night.jpg'\n",
    "!mkdir -p $images/query && wget $url -O $images/$query -q\n",
    "plot_images([read_image(images / query)], dpi=75)"
   ]
  },
  {
   "cell_type": "markdown",
   "id": "854edc74",
   "metadata": {},
   "source": [
    "Again, we extract features for the query and match them exhaustively with all mapping images that were successfully reconstructed."
   ]
  },
  {
   "cell_type": "code",
   "execution_count": null,
   "id": "a5dc9cb6",
   "metadata": {},
   "outputs": [],
   "source": [
    "references_registered = [refined.images[i].name for i in refined.reg_image_ids()]\n",
    "extract_features.main(feature_conf, images, image_list=[query], feature_path=features, overwrite=True)\n",
    "pairs_from_exhaustive.main(loc_pairs, image_list=[query], ref_list=references_registered)\n",
    "match_features.main(matcher_conf, loc_pairs, features=features, matches=matches, overwrite=True);"
   ]
  },
  {
   "cell_type": "markdown",
   "id": "4aa75646",
   "metadata": {},
   "source": [
    "We read the EXIF data of the query to infer a rough initial estimate of camera parameters like the focal length. Then we estimate the absolute camera pose using PnP+RANSAC and refine the camera parameters. Under the hood, the `QueryLocalizer` takes care of extracting dense features for the query and runs the keypoint and pose adjustments, QKA and QBA. The refinement refines the camera parameters in-place so we can inspect them."
   ]
  },
  {
   "cell_type": "code",
   "execution_count": null,
   "id": "3a68b8ee",
   "metadata": {},
   "outputs": [],
   "source": [
    "import pycolmap\n",
    "from pixsfm.localize import QueryLocalizer, pose_from_cluster\n",
    "\n",
    "camera = pycolmap.infer_camera_from_image(images / query)\n",
    "ref_ids = [refined.find_image_with_name(r).image_id for r in references_registered]\n",
    "conf = {\n",
    "    \"dense_features\": sfm.conf.dense_features,  # same features as the SfM refinement\n",
    "    \"PnP\": {  # initial pose estimation with PnP+RANSAC\n",
    "        'estimation': {'ransac': {'max_error': 12.0}},\n",
    "        'refinement': {'refine_focal_length': True, 'refine_extra_params': True},\n",
    "    },\n",
    "    \"QBA\": {  # query pose refinement\n",
    "        \"optimizer:\": {'refine_focal_length': True, 'refine_extra_params': True},\n",
    "    }\n",
    "}\n",
    "dense_features = sfm_outputs[\"feature_manager\"]\n",
    "localizer = QueryLocalizer(refined, conf, dense_features=dense_features)\n",
    "ret, log = pose_from_cluster(localizer, query, camera, ref_ids, features, matches, image_path=images/query)\n",
    "\n",
    "print(f'found {sum(ret[\"inliers\"])}/{len(ret[\"inliers\"])} inlier correspondences.')\n",
    "visualization.visualize_loc_from_log(images, query, log, refined, top_k_db=1)"
   ]
  },
  {
   "cell_type": "markdown",
   "id": "612f23aa",
   "metadata": {},
   "source": [
    "We visualize the correspondences between the query images a few mapping images. We can also visualize the estimated camera pose in the 3D map, shown here in blue."
   ]
  },
  {
   "cell_type": "code",
   "execution_count": null,
   "id": "558eb121",
   "metadata": {},
   "outputs": [],
   "source": [
    "pose = pycolmap.Image(tvec=ret['tvec'], qvec=ret['qvec'])\n",
    "plot_camera_colmap(fig3d, pose, camera, color='rgba(128,128,255,0.5)', name=query, legendgroup=\"refined\")\n",
    "fig3d.show()"
   ]
  }
 ],
 "metadata": {
  "kernelspec": {
   "display_name": "Python 3 (ipykernel)",
   "language": "python",
   "name": "python3"
  },
  "language_info": {
   "codemirror_mode": {
    "name": "ipython",
    "version": 3
   },
   "file_extension": ".py",
   "mimetype": "text/x-python",
   "name": "python",
   "nbconvert_exporter": "python",
   "pygments_lexer": "ipython3",
   "version": "3.8.10"
  }
 },
 "nbformat": 4,
 "nbformat_minor": 5
}
